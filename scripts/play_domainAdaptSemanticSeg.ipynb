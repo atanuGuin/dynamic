{
 "cells": [
  {
   "cell_type": "markdown",
   "metadata": {},
   "source": [
    "# Looking into domain adaptation for semantic segmentation (or segmentation adaptation) without labelled target domain.\n",
    "Stough, 5/20\n",
    "\n",
    "Really need to read up on this and try to understand. We have \n",
    "[Stanford 10K ap4 images](https://echonet.github.io/dynamic) for training\n",
    "for example, but we want the resulting model to work on Geisinger ap4 and\n",
    "ap2 and CAMUS ap2/4 images too. That's domain adaptation for semantic segmentation\n",
    "with unlabelled target domain. \n",
    "\n",
    "Some papers:\n",
    "- [Sun et al.](http://openaccess.thecvf.com/content_CVPR_2019/papers/Sun_Not_All_Areas_Are_Equal_Transfer_Learning_for_Semantic_Segmentation_CVPR_2019_paper.pdf): Not All Areas Are Equal: Transfer Learning for Semantic Segmentation via Hierarchical Region Selection \n",
    "- [Long et al.](https://arxiv.org/pdf/1602.04433.pdf): Unsupervised Domain Adaptation with Residual Transfer Networks (but that's for classification, not semantic segmentation)\n",
    "- [Ganin, Lempitsky](https://arxiv.org/pdf/1409.7495.pdf): Unsupervised Domain Adaptation by Backpropagation (also image classification) \n",
    "- [Zhu, et al.](https://arxiv.org/pdf/1809.00903.pdf): Penalizing Top Performers: Conservative Loss for Semantic Segmentation Adaptation \n",
    "- [Zhang et al.](https://arxiv.org/pdf/1707.09465.pdf): Curriculum Domain Adaptation for Semantic Segmentation of Urban Scenes\n",
    "- [Tzeng et al.](https://arxiv.org/abs/1702.05464): Adversarial Discriminative Domain Adaptation\n",
    "\n",
    "Some code:\n",
    "- [Great collection](https://github.com/jvanvugt/pytorch-domain-adaptation), including Ganin above.\n",
    "- [simple repo](https://github.com/fungtion/DANN) of Ganin\n"
   ]
  },
  {
   "cell_type": "code",
   "execution_count": null,
   "metadata": {},
   "outputs": [],
   "source": []
  }
 ],
 "metadata": {
  "kernelspec": {
   "display_name": "Python 3",
   "language": "python",
   "name": "python3"
  },
  "language_info": {
   "codemirror_mode": {
    "name": "ipython",
    "version": 3
   },
   "file_extension": ".py",
   "mimetype": "text/x-python",
   "name": "python",
   "nbconvert_exporter": "python",
   "pygments_lexer": "ipython3",
   "version": "3.7.6"
  }
 },
 "nbformat": 4,
 "nbformat_minor": 4
}
